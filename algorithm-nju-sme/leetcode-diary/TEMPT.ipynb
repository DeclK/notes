{
 "cells": [
  {
   "cell_type": "code",
   "execution_count": 1,
   "metadata": {},
   "outputs": [
    {
     "data": {
      "text/plain": [
       "'2'"
      ]
     },
     "execution_count": 1,
     "metadata": {},
     "output_type": "execute_result"
    }
   ],
   "source": [
    "max('1', '2')"
   ]
  },
  {
   "cell_type": "code",
   "execution_count": 58,
   "metadata": {},
   "outputs": [
    {
     "data": {
      "text/plain": [
       "3"
      ]
     },
     "execution_count": 58,
     "metadata": {},
     "output_type": "execute_result"
    }
   ],
   "source": [
    "class Solution:\n",
    "    def lengthOfLongestSubstring(self, s: str) -> int:\n",
    "        dic = {}\n",
    "        n = len(s)\n",
    "        dp = [0] * (n + 1)\n",
    "        for i in range(1, n + 1):\n",
    "            index_i = i - 1\n",
    "            near = dic.get(s[index_i], -1) # 获取索引 i\n",
    "            dic[s[index_i]] = index_i # 更新哈希表\n",
    "            if near == -1:\n",
    "                dp[i] = dp[i - 1] + 1\n",
    "            else:\n",
    "                dp[i] = min(dp[i - 1] + 1, index_i - near)\n",
    "        return max(dp)"
   ]
  }
 ],
 "metadata": {
  "interpreter": {
   "hash": "6b5572bb58df7784df57d82862c2b4c6f6576a349aced19bf81bb330227c74ca"
  },
  "kernelspec": {
   "display_name": "Python 3.7.0 64-bit ('kitti-vis': conda)",
   "language": "python",
   "name": "python3"
  },
  "language_info": {
   "codemirror_mode": {
    "name": "ipython",
    "version": 3
   },
   "file_extension": ".py",
   "mimetype": "text/x-python",
   "name": "python",
   "nbconvert_exporter": "python",
   "pygments_lexer": "ipython3",
   "version": "3.8.3"
  },
  "orig_nbformat": 4
 },
 "nbformat": 4,
 "nbformat_minor": 2
}
