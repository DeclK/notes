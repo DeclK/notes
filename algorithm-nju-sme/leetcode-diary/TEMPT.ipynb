{
 "cells": [
  {
   "cell_type": "code",
   "execution_count": 7,
   "metadata": {},
   "outputs": [
    {
     "data": {
      "text/plain": [
       "'*'"
      ]
     },
     "execution_count": 7,
     "metadata": {},
     "output_type": "execute_result"
    }
   ],
   "source": [
    "''.join(['*'])"
   ]
  },
  {
   "cell_type": "code",
   "execution_count": 5,
   "metadata": {},
   "outputs": [
    {
     "name": "stdout",
     "output_type": "stream",
     "text": [
      "True\n",
      "time is 0.0\n"
     ]
    }
   ],
   "source": [
    "a = list(range(100000))\n",
    "import bisect\n",
    "import time\n",
    "\n",
    "def timer(func):\n",
    "    def wrap(*args, **kwargs):\n",
    "        start = time.time()\n",
    "        ret = func(*args, **kwargs)\n",
    "        print(f'time is {time.time() - start}')\n",
    "        return ret\n",
    "    return wrap\n",
    "\n",
    "    \n",
    "a = set(range(10000000))\n",
    "# a = list(range(10000000))\n",
    "\n",
    "@timer\n",
    "def test():\n",
    "    print(1 in a)\n",
    "\n",
    "test()\n"
   ]
  }
 ],
 "metadata": {
  "interpreter": {
   "hash": "6b5572bb58df7784df57d82862c2b4c6f6576a349aced19bf81bb330227c74ca"
  },
  "kernelspec": {
   "display_name": "Python 3.7.0 64-bit ('kitti-vis': conda)",
   "language": "python",
   "name": "python3"
  },
  "language_info": {
   "codemirror_mode": {
    "name": "ipython",
    "version": 3
   },
   "file_extension": ".py",
   "mimetype": "text/x-python",
   "name": "python",
   "nbconvert_exporter": "python",
   "pygments_lexer": "ipython3",
   "version": "3.8.3"
  },
  "orig_nbformat": 4
 },
 "nbformat": 4,
 "nbformat_minor": 2
}
